{
  "nbformat": 4,
  "nbformat_minor": 0,
  "metadata": {
    "colab": {
      "name": "NLP_HW1.ipynb",
      "provenance": [],
      "collapsed_sections": [],
      "authorship_tag": "ABX9TyP504guPn1c+/yvkkiqHj8H",
      "include_colab_link": true
    },
    "kernelspec": {
      "name": "python3",
      "display_name": "Python 3"
    }
  },
  "cells": [
    {
      "cell_type": "markdown",
      "metadata": {
        "id": "view-in-github",
        "colab_type": "text"
      },
      "source": [
        "<a href=\"https://colab.research.google.com/github/Hafsa26/Natural-Language-Processing-/blob/main_nlp/NLP_HW1.ipynb\" target=\"_parent\"><img src=\"https://colab.research.google.com/assets/colab-badge.svg\" alt=\"Open In Colab\"/></a>"
      ]
    },
    {
      "cell_type": "code",
      "metadata": {
        "colab": {
          "base_uri": "https://localhost:8080/"
        },
        "id": "po9wT69iYowW",
        "outputId": "d582483d-e529-4912-caeb-b036d62f2e82"
      },
      "source": [
        "print('Name: Hafsa Farooq') \r\n",
        "print('Panther ID: 002526044')\r\n",
        "print(\"URL : https://colab.research.google.com/drive/1Ug20IIRi62t4kJ5s2mLMtiqZO9LNTDYB#scrollTo=TCH8QUlC8clY\") \r\n",
        "print('Github Link: https://github.com/Hafsa26/Natural-Language-Processing-.git')"
      ],
      "execution_count": 169,
      "outputs": [
        {
          "output_type": "stream",
          "text": [
            "Name: Hafsa Farooq\n",
            "Panther ID: 002526044\n",
            "URL : https://colab.research.google.com/drive/1Ug20IIRi62t4kJ5s2mLMtiqZO9LNTDYB#scrollTo=TCH8QUlC8clY\n",
            "Github Link: https://github.com/Hafsa26/Natural-Language-Processing-.git\n"
          ],
          "name": "stdout"
        }
      ]
    },
    {
      "cell_type": "code",
      "metadata": {
        "id": "RJB7pZlomdcg"
      },
      "source": [
        "import re\r\n",
        "txt_f = open(\"/content/hw_1-text.txt\", \"r\")\r\n",
        "inp = txt_f.read()"
      ],
      "execution_count": 168,
      "outputs": []
    },
    {
      "cell_type": "code",
      "metadata": {
        "colab": {
          "base_uri": "https://localhost:8080/"
        },
        "id": "4XtPv81m8KvW",
        "outputId": "199c85ad-2b52-4644-ea49-814429e4760e"
      },
      "source": [
        "#1. Write a piece of code using a regular expression in Python to count how many times the following name appears: CICERO, this regex needs to be case-sensitive.\r\n",
        "print(\"Number of count of CICERO: \" , (len(re.findall('CICERO',inp))))"
      ],
      "execution_count": 167,
      "outputs": [
        {
          "output_type": "stream",
          "text": [
            "Number of count of CICERO:  7\n"
          ],
          "name": "stdout"
        }
      ]
    },
    {
      "cell_type": "code",
      "metadata": {
        "colab": {
          "base_uri": "https://localhost:8080/"
        },
        "id": "LwMOYDKu8cbI",
        "outputId": "48628bc0-4853-4c68-a2a4-92df855349fb"
      },
      "source": [
        "#2. Write a regular expression in Python that finds all 6 character words found in this play.\r\n",
        "print(re.findall(r\"\\b\\w{6}\\b\", inp))"
      ],
      "execution_count": 166,
      "outputs": [
        {
          "output_type": "stream",
          "text": [
            "['Julius', 'Caesar', 'street', 'Second', 'answer', 'Second', 'indeed', 'mender', 'Second', 'fellow', 'Second', 'cobble', 'Second', 'meddle', 'indeed', 'danger', 'proper', 'Second', 'myself', 'indeed', 'Caesar', 'brings', 'follow', 'wheels', 'blocks', 'stones', 'things', 'hearts', 'Pompey', 'towers', 'Pompey', 'appear', 'sounds', 'shores', 'attire', 'Pompey', 'houses', 'plague', 'lowest', 'stream', 'shores', 'Exeunt', 'basest', 'vanish', 'tongue', 'images', 'matter', 'images', 'Caesar', 'vulgar', 'Caesar', 'Exeunt', 'public', 'CAESAR', 'ANTONY', 'course', 'PORTIA', 'DECIUS', 'BRUTUS', 'CICERO', 'BRUTUS', 'CAESAR', 'Caesar', 'speaks', 'CAESAR', 'CAESAR', 'course', 'ANTONY', 'Caesar', 'CAESAR', 'Forget', 'elders', 'barren', 'ANTONY', 'Caesar', 'CAESAR', 'Caesar', 'CAESAR', 'CAESAR', 'tongue', 'Caesar', 'Caesar', 'Beware', 'CAESAR', 'BRUTUS', 'beware', 'CAESAR', 'before', 'Fellow', 'throng', 'Caesar', 'CAESAR', 'Beware', 'CAESAR', 'Sennet', 'Exeunt', 'except', 'BRUTUS', 'course', 'BRUTUS', 'BRUTUS', 'spirit', 'Antony', 'hinder', 'Brutus', 'friend', 'BRUTUS', 'Merely', 'myself', 'proper', 'myself', 'number', 'Brutus', 'Brutus', 'breast', 'buried', 'worthy', 'Brutus', 'BRUTUS', 'itself', 'things', 'Brutus', 'hidden', 'shadow', 'Except', 'Caesar', 'Brutus', 'Brutus', 'BRUTUS', 'myself', 'Brutus', 'cannot', 'gentle', 'Brutus', 'common', 'myself', 'BRUTUS', 'people', 'Choose', 'Caesar', 'BRUTUS', 'impart', 'toward', 'honour', 'honour', 'virtue', 'Brutus', 'favour', 'honour', 'cannot', 'single', 'myself', 'Caesar', 'Endure', 'winter', 'shores', 'Caesar', 'Darest', 'yonder', 'follow', 'indeed', 'buffet', 'sinews', 'hearts', 'arrive', 'Caesar', 'Aeneas', 'flames', 'Caesar', 'become', 'Caesar', 'coward', 'colour', 'lustre', 'tongue', 'Romans', 'feeble', 'temper', 'should', 'BRUTUS', 'Caesar', 'narrow', 'graves', 'Brutus', 'Brutus', 'Caesar', 'should', 'Caesar', 'should', 'become', 'Brutus', 'spirit', 'Caesar', 'Caesar', 'shamed', 'bloods', 'indeed', 'enough', 'Brutus', 'easily', 'BRUTUS', 'answer', 'things', 'friend', 'Brutus', 'rather', 'repute', 'struck', 'Brutus', 'BRUTUS', 'Caesar', 'sleeve', 'worthy', 'CAESAR', 'BRUTUS', 'Caesar', 'Cicero', 'ferret', 'matter', 'CAESAR', 'ANTONY', 'Caesar', 'CAESAR', 'headed', 'nights', 'hungry', 'thinks', 'ANTONY', 'Caesar', 'CAESAR', 'fatter', 'liable', 'should', 'Antony', 'Seldom', 'smiles', 'smiles', 'spirit', 'Whiles', 'behold', 'rather', 'always', 'Caesar', 'Sennet', 'Exeunt', 'CAESAR', 'BRUTUS', 'Caesar', 'BRUTUS', 'should', 'people', 'BRUTUS', 'second', 'thrice', 'BRUTUS', 'thrice', 'thrice', 'honest', 'Antony', 'BRUTUS', 'manner', 'gentle', 'hanged', 'manner', 'Antony', 'hooted', 'sweaty', 'breath', 'Caesar', 'almost', 'choked', 'Caesar', 'Caesar', 'swound', 'market', 'foamed', 'BRUTUS', 'Caesar', 'honest', 'Caesar', 'people', 'BRUTUS', 'before', 'common', 'throat', 'rogues', 'hearts', 'Caesar', 'BRUTUS', 'Cicero', 'effect', 'smiled', 'scarfs', 'Caesar', 'images', 'morrow', 'dinner', 'eating', 'expect', 'BRUTUS', 'fellow', 'mettle', 'school', 'digest', 'better', 'BRUTUS', 'morrow', 'please', 'BRUTUS', 'Brutus', 'cannot', 'Caesar', 'Brutus', 'Brutus', 'should', 'humour', 'Caesar', 'Caesar', 'endure', 'street', 'CICERO', 'CICERO', 'Caesar', 'Shakes', 'unfirm', 'Cicero', 'knotty', 'clouds', 'Either', 'strife', 'heaven', 'CICERO', 'common', 'twenty', 'remain', 'glared', 'market', 'things', 'CICERO', 'Indeed', 'things', 'things', 'Caesar', 'morrow', 'morrow', 'CICERO', 'Cicero', 'CICERO', 'honest', 'menace', 'faults', 'breast', 'heaven', 'myself', 'mighty', 'tokens', 'sparks', 'should', 'wonder', 'ghosts', 'beasts', 'things', 'change', 'heaven', 'graves', 'action', 'Caesar', 'Romans', 'govern', 'Indeed', 'Caesar', 'dagger', 'strong', 'defeat', 'beaten', 'strong', 'spirit', 'itself', 'cancel', 'should', 'Caesar', 'tyrant', 'Romans', 'Romans', 'mighty', 'straws', 'serves', 'matter', 'Caesar', 'Before', 'answer', 'griefs', 'minded', 'Romans', 'Pompey', 'favour', 'bloody', 'awhile', 'friend', 'Cimber', 'sights', 'Brutus', 'Brutus', 'window', 'Brutus', 'statue', 'Repair', 'Pompey', 'Decius', 'Brutus', 'Cimber', 'bestow', 'papers', 'repair', 'Pompey', 'Brutus', 'entire', 'yields', 'people', 'hearts', 'appear', 'change', 'virtue', 'Exeunt', 'BRUTUS', 'BRUTUS', 'BRUTUS', 'Lucius', 'cannot', 'Lucius', 'Lucius', 'Lucius', 'LUCIUS', 'LUCIUS', 'BRUTUS', 'Lucius', 'LUCIUS', 'BRUTUS', 'change', 'nature', 'bright', 'brings', 'craves', 'danger', 'Caesar', 'reason', 'common', 'ladder', 'upward', 'upmost', 'ladder', 'clouds', 'ascend', 'Caesar', 'colour', 'LUCIUS', 'LUCIUS', 'closet', 'window', 'letter', 'BRUTUS', 'morrow', 'LUCIUS', 'BRUTUS', 'LUCIUS', 'BRUTUS', 'letter', 'Brutus', 'strike', 'Brutus', 'strike', 'strike', 'follow', 'Brutus', 'LUCIUS', 'LUCIUS', 'wasted', 'within', 'BRUTUS', 'knocks', 'LUCIUS', 'Caesar', 'acting', 'motion', 'Genius', 'mortal', 'little', 'nature', 'LUCIUS', 'LUCIUS', 'desire', 'BRUTUS', 'LUCIUS', 'BRUTUS', 'LUCIUS', 'buried', 'cloaks', 'favour', 'BRUTUS', 'LUCIUS', 'cavern', 'enough', 'visage', 'smiles', 'native', 'Erebus', 'itself', 'enough', 'DECIUS', 'BRUTUS', 'CIMBER', 'morrow', 'Brutus', 'BRUTUS', 'BRUTUS', 'hither', 'Decius', 'Brutus', 'BRUTUS', 'Cimber', 'BRUTUS', 'BRUTUS', 'DECIUS', 'BRUTUS', 'pardon', 'clouds', 'arises', 'season', 'months', 'higher', 'toward', 'Stands', 'BRUTUS', 'BRUTUS', 'enough', 'kindle', 'valour', 'secret', 'Romans', 'palter', 'feeble', 'wrongs', 'causes', 'virtue', 'mettle', 'guilty', 'Cicero', 'strong', 'CIMBER', 'silver', 'voices', 'youths', 'appear', 'buried', 'BRUTUS', 'follow', 'Indeed', 'DECIUS', 'BRUTUS', 'Caesar', 'Decius', 'Antony', 'Caesar', 'Should', 'Caesar', 'shrewd', 'Antony', 'Caesar', 'BRUTUS', 'course', 'bloody', 'Antony', 'Caesar', 'spirit', 'Caesar', 'spirit', 'Caesar', 'spirit', 'Caesar', 'Caesar', 'gentle', 'boldly', 'hounds', 'hearts', 'subtle', 'common', 'Antony', 'Caesar', 'Caesar', 'Caesar', 'BRUTUS', 'Caesar', 'Caesar', 'should', 'sports', 'BRUTUS', 'Caesar', 'dreams', 'terror', 'DECIUS', 'BRUTUS', 'ersway', 'betray', 'humour', 'BRUTUS', 'eighth', 'CIMBER', 'Caesar', 'Pompey', 'wonder', 'BRUTUS', 'hither', 'Brutus', 'Romans', 'BRUTUS', 'actors', 'formal', 'morrow', 'Exeunt', 'BRUTUS', 'Lucius', 'asleep', 'matter', 'brains', 'PORTIA', 'PORTIA', 'Brutus', 'BRUTUS', 'Portia', 'health', 'commit', 'PORTIA', 'Brutus', 'supper', 'Musing', 'across', 'matter', 'stared', 'answer', 'withal', 'Hoping', 'effect', 'humour', 'should', 'Brutus', 'BRUTUS', 'health', 'PORTIA', 'Brutus', 'health', 'BRUTUS', 'Portia', 'PORTIA', 'Brutus', 'Brutus', 'rheumy', 'Brutus', 'within', 'virtue', 'beauty', 'unfold', 'resort', 'BRUTUS', 'gentle', 'Portia', 'PORTIA', 'should', 'gentle', 'Brutus', 'Within', 'Brutus', 'should', 'Portia', 'Brutus', 'harlot', 'BRUTUS', 'PORTIA', 'should', 'secret', 'withal', 'Brutus', 'withal', 'father', 'strong', 'Giving', 'myself', 'BRUTUS', 'Render', 'worthy', 'within', 'knocks', 'Portia', 'awhile', 'PORTIA', 'Lucius', 'knocks', 'LUCIUS', 'LUCIUS', 'BRUTUS', 'morrow', 'feeble', 'tongue', 'BRUTUS', 'Brutus', 'worthy', 'honour', 'BRUTUS', 'Romans', 'before', 'spirit', 'strive', 'things', 'better', 'BRUTUS', 'BRUTUS', 'unfold', 'follow', 'Brutus', 'BRUTUS', 'Follow', 'Exeunt', 'CAESAR', 'CAESAR', 'CAESAR', 'heaven', 'Thrice', 'murder', 'Caesar', 'within', 'CAESAR', 'Caesar', 'CAESAR', 'Caesar', 'things', 'Caesar', 'Caesar', 'fright', 'within', 'things', 'horrid', 'sights', 'graves', 'Fierce', 'fought', 'clouds', 'battle', 'Horses', 'ghosts', 'shriek', 'squeal', 'Caesar', 'things', 'beyond', 'CAESAR', 'mighty', 'Caesar', 'Caesar', 'comets', 'CAESAR', 'before', 'deaths', 'should', 'Seeing', 'within', 'CAESAR', 'Caesar', 'should', 'should', 'Caesar', 'danger', 'Caesar', 'litter', 'Caesar', 'wisdom', 'Antony', 'senate', 'CAESAR', 'Antony', 'humour', 'DECIUS', 'BRUTUS', 'Decius', 'Brutus', 'DECIUS', 'BRUTUS', 'Caesar', 'morrow', 'worthy', 'Caesar', 'senate', 'CAESAR', 'Cannot', 'falser', 'Decius', 'CAESAR', 'Caesar', 'afraid', 'Decius', 'Caesar', 'DECIUS', 'BRUTUS', 'mighty', 'Caesar', 'CAESAR', 'enough', 'senate', 'dreamt', 'statua', 'spouts', 'Romans', 'DECIUS', 'BRUTUS', 'vision', 'statue', 'Romans', 'bathed', 'stains', 'relics', 'CAESAR', 'DECIUS', 'BRUTUS', 'senate', 'mighty', 'Caesar', 'change', 'render', 'senate', 'Caesar', 'better', 'dreams', 'Caesar', 'Caesar', 'afraid', 'Pardon', 'Caesar', 'reason', 'liable', 'CAESAR', 'BRUTUS', 'morrow', 'Caesar', 'CAESAR', 'Brutus', 'morrow', 'Caesar', 'BRUTUS', 'Caesar', 'CAESAR', 'ANTONY', 'Antony', 'revels', 'nights', 'morrow', 'Antony', 'ANTONY', 'Caesar', 'CAESAR', 'within', 'waited', 'Caesar', 'CAESAR', 'BRUTUS', 'Caesar', 'Brutus', 'yearns', 'Exeunt', 'street', 'Caesar', 'beware', 'Brutus', 'Cimber', 'Decius', 'Brutus', 'Caesar', 'mighty', 'defend', 'Caesar', 'suitor', 'virtue', 'cannot', 'Caesar', 'street', 'before', 'BRUTUS', 'PORTIA', 'LUCIUS', 'PORTIA', 'senate', 'answer', 'LUCIUS', 'errand', 'PORTIA', 'strong', 'tongue', 'LUCIUS', 'should', 'return', 'PORTIA', 'sickly', 'Caesar', 'LUCIUS', 'PORTIA', 'listen', 'rumour', 'brings', 'LUCIUS', 'PORTIA', 'hither', 'fellow', 'PORTIA', 'PORTIA', 'Caesar', 'PORTIA', 'Caesar', 'please', 'Caesar', 'Caesar', 'PORTIA', 'chance', 'morrow', 'street', 'narrow', 'throng', 'Caesar', 'common', 'feeble', 'almost', 'Caesar', 'PORTIA', 'Brutus', 'Brutus', 'Caesar', 'Lucius', 'Exeunt', 'Before', 'Senate', 'people', 'CAESAR', 'BRUTUS', 'DECIUS', 'BRUTUS', 'CIMBER', 'ANTONY', 'others', 'CAESAR', 'Caesar', 'Caesar', 'DECIUS', 'BRUTUS', 'desire', 'erread', 'humble', 'Caesar', 'Caesar', 'nearer', 'Caesar', 'CAESAR', 'served', 'Caesar', 'CAESAR', 'fellow', 'Sirrah', 'street', 'CAESAR', 'Senate', 'thrive', 'CAESAR', 'BRUTUS', 'thrive', 'BRUTUS', 'Caesar', 'sudden', 'Brutus', 'Caesar', 'myself', 'BRUTUS', 'speaks', 'smiles', 'Caesar', 'change', 'Brutus', 'Antony', 'Exeunt', 'ANTONY', 'DECIUS', 'BRUTUS', 'Cimber', 'prefer', 'Caesar', 'BRUTUS', 'second', 'CAESAR', 'Caesar', 'senate', 'CIMBER', 'mighty', 'Caesar', 'Cimber', 'throws', 'before', 'humble', 'CAESAR', 'Cimber', 'decree', 'Caesar', 'decree', 'Caesar', 'CIMBER', 'worthy', 'Caesar', 'banish', 'BRUTUS', 'Caesar', 'Cimber', 'repeal', 'CAESAR', 'Brutus', 'Pardon', 'Caesar', 'Caesar', 'pardon', 'Cimber', 'fellow', 'sparks', 'number', 'motion', 'little', 'Cimber', 'should', 'banish', 'remain', 'Caesar', 'CAESAR', 'DECIUS', 'BRUTUS', 'Caesar', 'CAESAR', 'Brutus', 'BRUTUS', 'CAESAR', 'CAESAR', 'Caesar', 'common', 'BRUTUS', 'People', 'pulpit', 'Brutus', 'DECIUS', 'BRUTUS', 'BRUTUS', 'mutiny', 'CIMBER', 'friend', 'Caesar', 'Should', 'chance', 'BRUTUS', 'person', 'people', 'should', 'BRUTUS', 'Antony', 'amazed', 'BRUTUS', 'twenty', 'BRUTUS', 'Caesar', 'Romans', 'Caesar', 'elbows', 'swords', 'market', 'waving', 'states', 'unborn', 'BRUTUS', 'Caesar', 'Pompey', 'DECIUS', 'BRUTUS', 'Brutus', 'hearts', 'BRUTUS', 'friend', 'Antony', 'Brutus', 'master', 'Antony', 'Brutus', 'honest', 'Caesar', 'mighty', 'loving', 'Brutus', 'honour', 'Caesar', 'honour', 'Brutus', 'Antony', 'safely', 'Caesar', 'Antony', 'Caesar', 'Brutus', 'living', 'follow', 'Brutus', 'untrod', 'master', 'Antony', 'BRUTUS', 'master', 'please', 'honour', 'Depart', 'BRUTUS', 'friend', 'BRUTUS', 'Antony', 'ANTONY', 'Antony', 'ANTONY', 'mighty', 'Caesar', 'spoils', 'Shrunk', 'little', 'intend', 'myself', 'Caesar', 'swords', 'whilst', 'Fulfil', 'myself', 'please', 'Caesar', 'choice', 'master', 'BRUTUS', 'Antony', 'Though', 'appear', 'bloody', 'hearts', 'drives', 'Caesar', 'swords', 'leaden', 'points', 'Antony', 'malice', 'hearts', 'temper', 'strong', 'BRUTUS', 'beside', 'Caesar', 'struck', 'ANTONY', 'wisdom', 'render', 'bloody', 'Marcus', 'Brutus', 'Decius', 'Brutus', 'Though', 'credit', 'stands', 'ground', 'Either', 'coward', 'Caesar', 'spirit', 'grieve', 'dearer', 'making', 'bloody', 'wounds', 'stream', 'become', 'better', 'Pardon', 'Julius', 'forest', 'indeed', 'Antony', 'ANTONY', 'Pardon', 'Caesar', 'friend', 'Caesar', 'number', 'depend', 'ANTONY', 'indeed', 'Caesar', 'Caesar', 'BRUTUS', 'savage', 'regard', 'Antony', 'Caesar', 'should', 'ANTONY', 'suitor', 'market', 'pulpit', 'friend', 'BRUTUS', 'Antony', 'Brutus', 'BRUTUS', 'Antony', 'people', 'BRUTUS', 'pardon', 'myself', 'pulpit', 'reason', 'Caesar', 'Antony', 'speaks', 'Caesar', 'lawful', 'BRUTUS', 'Antony', 'Caesar', 'speech', 'devise', 'Caesar', 'pulpit', 'speech', 'ANTONY', 'desire', 'BRUTUS', 'follow', 'Exeunt', 'ANTONY', 'ANTONY', 'pardon', 'gentle', 'costly', 'wounds', 'mouths', 'tongue', 'fierce', 'strife', 'cumber', 'behold', 'choked', 'custom', 'Caesar', 'spirit', 'burial', 'Caesar', 'Antony', 'ANTONY', 'Caesar', 'coming', 'Caesar', 'Seeing', 'ANTONY', 'Seeing', 'sorrow', 'master', 'coming', 'within', 'ANTONY', 'safety', 'awhile', 'market', 'people', 'bloody', 'things', 'Exeunt', 'CAESAR', 'BRUTUS', 'throng', 'BRUTUS', 'follow', 'street', 'follow', 'public', 'Caesar', 'Brutus', 'Second', 'BRUTUS', 'pulpit', 'Brutus', 'BRUTUS', 'Romans', 'lovers', 'silent', 'honour', 'honour', 'wisdom', 'senses', 'better', 'friend', 'Caesar', 'Brutus', 'Caesar', 'friend', 'demand', 'Brutus', 'Caesar', 'answer', 'Caesar', 'rather', 'Caesar', 'living', 'slaves', 'Caesar', 'Caesar', 'honour', 'honour', 'valour', 'Brutus', 'BRUTUS', 'Caesar', 'Brutus', 'worthy', 'ANTONY', 'others', 'CAESAR', 'Antony', 'though', 'depart', 'dagger', 'myself', 'please', 'Brutus', 'Second', 'statue', 'Caesar', 'Fourth', 'Caesar', 'better', 'Brutus', 'shouts', 'BRUTUS', 'Second', 'Brutus', 'speaks', 'BRUTUS', 'depart', 'Antony', 'Caesar', 'corpse', 'speech', 'Caesar', 'Antony', 'depart', 'Antony', 'Antony', 'public', 'Antony', 'ANTONY', 'Brutus', 'pulpit', 'Fourth', 'Brutus', 'Brutus', 'Fourth', 'Brutus', 'Caesar', 'tyrant', 'Second', 'Antony', 'ANTONY', 'gentle', 'Romans', 'ANTONY', 'Romans', 'Caesar', 'praise', 'Caesar', 'Brutus', 'Caesar', 'Caesar', 'answer', 'Brutus', 'Brutus', 'Caesar', 'friend', 'Brutus', 'Brutus', 'Caesar', 'Caesar', 'should', 'Brutus', 'Brutus', 'thrice', 'kingly', 'thrice', 'refuse', 'Brutus', 'Brutus', 'beasts', 'reason', 'coffin', 'Caesar', 'reason', 'Second', 'matter', 'Caesar', 'Fourth', 'Second', 'nobler', 'Antony', 'Fourth', 'begins', 'ANTONY', 'Caesar', 'hearts', 'mutiny', 'should', 'Brutus', 'rather', 'choose', 'myself', 'Caesar', 'closet', 'pardon', 'Caesar', 'wounds', 'sacred', 'memory', 'within', 'legacy', 'Fourth', 'Antony', 'Caesar', 'ANTONY', 'gentle', 'Caesar', 'stones', 'Caesar', 'should', 'Fourth', 'Antony', 'Caesar', 'ANTONY', 'awhile', 'ershot', 'myself', 'Caesar', 'Fourth', 'Second', 'ANTONY', 'compel', 'corpse', 'Caesar', 'Second', 'ANTONY', 'Fourth', 'hearse', 'Second', 'Antony', 'Antony', 'ANTONY', 'ANTONY', 'mantle', 'Caesar', 'summer', 'Nervii', 'dagger', 'Brutus', 'cursed', 'Caesar', 'follow', 'Brutus', 'Brutus', 'Caesar', 'dearly', 'Caesar', 'Caesar', 'strong', 'mighty', 'mantle', 'Pompey', 'statua', 'Caesar', 'Whilst', 'bloody', 'behold', 'Caesar', 'Second', 'Caesar', 'Fourth', 'bloody', 'Second', 'ANTONY', 'Antony', 'Second', 'follow', 'ANTONY', 'sudden', 'mutiny', 'griefs', 'answer', 'hearts', 'orator', 'Brutus', 'friend', 'public', 'Action', 'speech', 'Caesar', 'wounds', 'mouths', 'Brutus', 'Brutus', 'Antony', 'Antony', 'ruffle', 'tongue', 'Caesar', 'should', 'stones', 'mutiny', 'mutiny', 'Brutus', 'ANTONY', 'Antony', 'Antony', 'ANTONY', 'Caesar', 'forgot', 'ANTONY', 'Caesar', 'Second', 'Caesar', 'Caesar', 'ANTONY', 'ANTONY', 'common', 'abroad', 'Caesar', 'brands', 'houses', 'Second', 'Fourth', 'Exeunt', 'ANTONY', 'course', 'fellow', 'ANTONY', 'Caesar', 'ANTONY', 'Brutus', 'madmen', 'ANTONY', 'Belike', 'notice', 'people', 'Exeunt', 'street', 'dreamt', 'Caesar', 'things', 'charge', 'wander', 'Second', 'Fourth', 'Second', 'Answer', 'Fourth', 'wisely', 'answer', 'wisely', 'wisely', 'Second', 'Caesar', 'friend', 'friend', 'Second', 'matter', 'Fourth', 'pieces', 'Fourth', 'verses', 'verses', 'Fourth', 'matter', 'brands', 'brands', 'Brutus', 'Decius', 'Exeunt', 'ANTONY', 'seated', 'ANTONY', 'Antony', 'sister', 'Antony', 'ANTONY', 'Caesar', 'hither', 'charge', 'ANTONY', 'slight', 'should', 'should', 'ANTONY', 'though', 'divers', 'Either', 'driven', 'having', 'ANTONY', 'motion', 'govern', 'spirit', 'taught', 'barren', 'fellow', 'staled', 'Listen', 'things', 'Brutus', 'powers', 'covert', 'perils', 'surest', 'hearts', 'Exeunt', 'Sardis', 'Before', 'BRUTUS', 'BRUTUS', 'LUCIUS', 'BRUTUS', 'BRUTUS', 'master', 'BRUTUS', 'greets', 'master', 'change', 'worthy', 'Things', 'undone', 'master', 'appear', 'regard', 'honour', 'BRUTUS', 'enough', 'BRUTUS', 'friend', 'begins', 'sicken', 'tricks', 'simple', 'hollow', 'horses', 'mettle', 'should', 'endure', 'bloody', 'crests', 'Sardis', 'BRUTUS', 'within', 'gently', 'powers', 'BRUTUS', 'Second', 'BRUTUS', 'should', 'Brutus', 'wrongs', 'BRUTUS', 'griefs', 'softly', 'Before', 'armies', 'should', 'griefs', 'little', 'ground', 'BRUTUS', 'Lucius', 'Exeunt', 'Brutus', 'BRUTUS', 'appear', 'Lucius', 'taking', 'bribes', 'BRUTUS', 'should', 'BRUTUS', 'Brutus', 'speech', 'BRUTUS', 'BRUTUS', 'Julius', 'struck', 'bribes', 'mighty', 'rather', 'Brutus', 'endure', 'forget', 'BRUTUS', 'BRUTUS', 'forget', 'myself', 'health', 'BRUTUS', 'slight', 'BRUTUS', 'choler', 'madman', 'stares', 'endure', 'BRUTUS', 'slaves', 'crouch', 'humour', 'digest', 'spleen', 'Though', 'BRUTUS', 'better', 'appear', 'please', 'Brutus', 'better', 'better', 'BRUTUS', 'Caesar', 'BRUTUS', 'BRUTUS', 'BRUTUS', 'BRUTUS', 'should', 'terror', 'strong', 'denied', 'heaven', 'rather', 'denied', 'Should', 'answer', 'Marcus', 'Brutus', 'rascal', 'pieces', 'denied', 'BRUTUS', 'answer', 'Brutus', 'friend', 'should', 'friend', 'Brutus', 'BRUTUS', 'BRUTUS', 'faults', 'faults', 'BRUTUS', 'though', 'appear', 'Antony', 'aweary', 'braved', 'Cheque', 'faults', 'spirit', 'dagger', 'breast', 'within', 'Dearer', 'Plutus', 'richer', 'denied', 'Strike', 'Caesar', 'better', 'BRUTUS', 'dagger', 'humour', 'Brutus', 'temper', 'vexeth', 'BRUTUS', 'temper', 'BRUTUS', 'Brutus', 'BRUTUS', 'matter', 'enough', 'humour', 'mother', 'BRUTUS', 'Brutus', 'mother', 'chides', 'Within', 'grudge', 'Within', 'Within', 'LUCIUS', 'matter', 'should', 'vilely', 'BRUTUS', 'sirrah', 'fellow', 'Brutus', 'BRUTUS', 'humour', 'should', 'BRUTUS', 'Exeunt', 'BRUTUS', 'Lucius', 'LUCIUS', 'BRUTUS', 'griefs', 'BRUTUS', 'sorrow', 'better', 'Portia', 'Portia', 'BRUTUS', 'scaped', 'BRUTUS', 'Antony', 'strong', 'absent', 'BRUTUS', 'LUCIUS', 'BRUTUS', 'pledge', 'Lucius', 'cannot', 'Brutus', 'BRUTUS', 'LUCIUS', 'Portia', 'BRUTUS', 'Antony', 'mighty', 'toward', 'Myself', 'BRUTUS', 'Antony', 'BRUTUS', 'Cicero', 'Cicero', 'Cicero', 'BRUTUS', 'BRUTUS', 'BRUTUS', 'BRUTUS', 'manner', 'BRUTUS', 'Portia', 'endure', 'losses', 'should', 'endure', 'nature', 'BRUTUS', 'BRUTUS', 'reason', 'better', 'whilst', 'BRUTUS', 'better', 'people', 'ground', 'forced', 'fuller', 'number', 'people', 'BRUTUS', 'pardon', 'beside', 'utmost', 'height', 'voyage', 'afloat', 'serves', 'BRUTUS', 'nature', 'little', 'morrow', 'BRUTUS', 'Lucius', 'LUCIUS', 'LUCIUS', 'repose', 'Brutus', 'BRUTUS', 'BRUTUS', 'Brutus', 'BRUTUS', 'Exeunt', 'BRUTUS', 'LUCIUS', 'LUCIUS', 'BRUTUS', 'LUCIUS', 'BRUTUS', 'please', 'BRUTUS', 'Lucius', 'sought', 'pocket', 'LUCIUS', 'BRUTUS', 'awhile', 'strain', 'LUCIUS', 'please', 'BRUTUS', 'LUCIUS', 'BRUTUS', 'should', 'bloods', 'LUCIUS', 'BRUTUS', 'sleepy', 'leaden', 'Gentle', 'CAESAR', 'shapes', 'makest', 'spirit', 'Brutus', 'BRUTUS', 'comest', 'BRUTUS', 'BRUTUS', 'spirit', 'Lucius', 'LUCIUS', 'BRUTUS', 'thinks', 'Lucius', 'LUCIUS', 'BRUTUS', 'Lucius', 'LUCIUS', 'BRUTUS', 'LUCIUS', 'BRUTUS', 'Lucius', 'Sirrah', 'Fellow', 'BRUTUS', 'BRUTUS', 'BRUTUS', 'powers', 'before', 'follow', 'Exeunt', 'plains', 'ANTONY', 'Antony', 'proves', 'before', 'demand', 'ANTONY', 'bosoms', 'places', 'fasten', 'bloody', 'battle', 'ANTONY', 'battle', 'softly', 'ANTONY', 'BRUTUS', 'others', 'BRUTUS', 'parley', 'Antony', 'battle', 'ANTONY', 'Caesar', 'answer', 'charge', 'signal', 'BRUTUS', 'before', 'better', 'BRUTUS', 'better', 'ANTONY', 'Brutus', 'Caesar', 'Crying', 'Caesar', 'Antony', 'ANTONY', 'BRUTUS', 'Antony', 'wisely', 'threat', 'before', 'ANTONY', 'Caesar', 'hounds', 'Caesar', 'Whilst', 'damned', 'behind', 'Struck', 'Caesar', 'Brutus', 'tongue', 'redder', 'Caesar', 'thirty', 'wounds', 'Caesar', 'BRUTUS', 'Caesar', 'Unless', 'Brutus', 'BRUTUS', 'strain', 'honour', 'masker', 'ANTONY', 'Antony', 'Exeunt', 'ANTONY', 'billow', 'hazard', 'BRUTUS', 'BRUTUS', 'Pompey', 'battle', 'strong', 'change', 'partly', 'credit', 'things', 'Coming', 'Sardis', 'former', 'ensign', 'mighty', 'eagles', 'steads', 'ravens', 'sickly', 'canopy', 'partly', 'spirit', 'perils', 'BRUTUS', 'Brutus', 'Lovers', 'reason', 'befall', 'battle', 'BRUTUS', 'arming', 'myself', 'powers', 'govern', 'battle', 'BRUTUS', 'Brutus', 'Brutus', 'indeed', 'BRUTUS', 'Exeunt', 'battle', 'Alarum', 'BRUTUS', 'BRUTUS', 'alarum', 'sudden', 'Exeunt', 'Myself', 'ensign', 'coward', 'Brutus', 'having', 'Whilst', 'Antony', 'Antony', 'enough', 'lovest', 'yonder', 'troops', 'troops', 'friend', 'higher', 'regard', 'notest', 'Sirrah', 'almost', 'lights', 'behold', 'coward', 'friend', 'before', 'hither', 'sirrah', 'saving', 'Caesar', 'bowels', 'search', 'answer', 'Caesar', 'change', 'Brutus', 'Antony', 'ground', 'living', 'Clouds', 'things', 'comest', 'mother', 'whilst', 'Brutus', 'report', 'Brutus', 'wreath', 'shouts', 'Brutus', 'Brutus', 'Alarum', 'BRUTUS', 'STRATO', 'BRUTUS', 'yonder', 'BRUTUS', 'upward', 'BRUTUS', 'Julius', 'Caesar', 'mighty', 'spirit', 'abroad', 'swords', 'proper', 'BRUTUS', 'Romans', 'living', 'Romans', 'Should', 'fellow', 'Thasos', 'Romans', 'second', 'Exeunt', 'Alarum', 'armies', 'BRUTUS', 'others', 'BRUTUS', 'Marcus', 'friend', 'Marcus', 'BRUTUS', 'Brutus', 'Marcus', 'Brutus', 'Brutus', 'friend', 'Brutus', 'honour', 'Brutus', 'honour', 'Second', 'Antony', 'Brutus', 'ANTONY', 'Brutus', 'Brutus', 'ANTONY', 'Antony', 'Brutus', 'enough', 'assure', 'Brutus', 'defend', 'Brutus', 'ANTONY', 'Brutus', 'friend', 'assure', 'rather', 'Brutus', 'Exeunt', 'BRUTUS', 'CLITUS', 'STRATO', 'BRUTUS', 'CLITUS', 'BRUTUS', 'Clitus', 'Clitus', 'CLITUS', 'BRUTUS', 'CLITUS', 'rather', 'myself', 'BRUTUS', 'CLITUS', 'Clitus', 'CLITUS', 'Brutus', 'Clitus', 'CLITUS', 'vessel', 'BRUTUS', 'hither', 'BRUTUS', 'Caesar', 'appear', 'Sardis', 'fields', 'BRUTUS', 'worthy', 'school', 'whilst', 'office', 'friend', 'Alarum', 'CLITUS', 'BRUTUS', 'Strato', 'asleep', 'Strato', 'losing', 'Antony', 'attain', 'Brutus', 'tongue', 'almost', 'labour', 'attain', 'Alarum', 'within', 'CLITUS', 'BRUTUS', 'follow', 'Exeunt', 'CLITUS', 'Strato', 'fellow', 'smatch', 'honour', 'Strato', 'STRATO', 'BRUTUS', 'Strato', 'Caesar', 'Alarum', 'ANTONY', 'master', 'Strato', 'master', 'STRATO', 'Brutus', 'honour', 'Brutus', 'should', 'Brutus', 'proved', 'saying', 'served', 'Brutus', 'Fellow', 'bestow', 'STRATO', 'prefer', 'master', 'Strato', 'STRATO', 'follow', 'latest', 'master', 'ANTONY', 'Caesar', 'honest', 'common', 'gentle', 'Nature', 'virtue', 'burial', 'Within', 'Exeunt']\n"
          ],
          "name": "stdout"
        }
      ]
    },
    {
      "cell_type": "code",
      "metadata": {
        "colab": {
          "base_uri": "https://localhost:8080/"
        },
        "id": "cRaQhCIc8chi",
        "outputId": "8939df41-93f6-45f7-d0ae-f782c431a8ba"
      },
      "source": [
        "#3. Write a piece of code that uses a regular expression in Python to count how manywords are capitalized in the first letter only.\r\n",
        "\r\n",
        "First_uppercase = re.findall(r\"[A-Z]+[a-z]\", inp) \r\n",
        "print(\"Count of first capitalized letters: \",(len(First_uppercase)))"
      ],
      "execution_count": 165,
      "outputs": [
        {
          "output_type": "stream",
          "text": [
            "Count of first capitalized letters:  3737\n"
          ],
          "name": "stdout"
        }
      ]
    },
    {
      "cell_type": "code",
      "metadata": {
        "colab": {
          "base_uri": "https://localhost:8080/"
        },
        "id": "TCH8QUlC8clY",
        "outputId": "45a7b40c-8a93-49e3-da8b-eee2d8dc2ccc"
      },
      "source": [
        "#4. Write a regular expression using groups in Python that extracts all phrases that have“son of ” and extract/output the answer in a case-insensitive way. \r\n",
        "#For example, for thefollowing “I am the son of earth”, should find “son of earth” and extract/output “earth”\r\n",
        "\r\n",
        "print(re.findall('son of (\\\\w+)',inp, re.IGNORECASE))"
      ],
      "execution_count": 163,
      "outputs": [
        {
          "output_type": "stream",
          "text": [
            "['Rome', 'the', 'Caesar', 'our', 'Marcus', 'Marcus']\n"
          ],
          "name": "stdout"
        }
      ]
    },
    {
      "cell_type": "code",
      "metadata": {
        "colab": {
          "base_uri": "https://localhost:8080/"
        },
        "id": "rx-a0GRx8cqK",
        "outputId": "903cf35c-f1a3-45c7-a33d-625c53d9b8bb"
      },
      "source": [
        "#5. Plays are divided in acts, write a regular expression using groups in Python thatextracts the number of each act found in this play in a case-sensitive way.\r\n",
        "print(re.findall('ACT (\\\\w+)',inp))\r\n",
        "len(re.findall('ACT (\\\\w+)',inp))\r\n"
      ],
      "execution_count": 164,
      "outputs": [
        {
          "output_type": "stream",
          "text": [
            "['I', 'II', 'III', 'IV', 'V']\n"
          ],
          "name": "stdout"
        },
        {
          "output_type": "execute_result",
          "data": {
            "text/plain": [
              "5"
            ]
          },
          "metadata": {
            "tags": []
          },
          "execution_count": 164
        }
      ]
    },
    {
      "cell_type": "code",
      "metadata": {
        "colab": {
          "base_uri": "https://localhost:8080/"
        },
        "id": "m6cBwnVW8y40",
        "outputId": "fc46154a-ea88-4106-8a6a-82dd6c4b0b98"
      },
      "source": [
        "# 6. Write a Python function that takes the file as an input and outputs how many lines endwith: ? \r\n",
        "# that is a question mark at the end of the line. This function needs to use aregular expression.\r\n",
        "filepath = '/content/hw_1-text.txt'\r\n",
        "with open(filepath) as txt:\r\n",
        "   line = txt.readline()\r\n",
        "   count = 1\r\n",
        "   L = 0\r\n",
        "   while line:\r\n",
        "       \r\n",
        "       line = txt.readline()\r\n",
        "       if re.search('\\?$', line):\r\n",
        "         L += 1  \r\n",
        "       #print(\"Line {}: {}\".format(cnt, re.search('\\?$', line)))\r\n",
        "       count += 1\r\n",
        "print(\"The total number of lines having ? at the end: \", L)"
      ],
      "execution_count": 162,
      "outputs": [
        {
          "output_type": "stream",
          "text": [
            "The total number of lines having ? at the end:  215\n"
          ],
          "name": "stdout"
        }
      ]
    },
    {
      "cell_type": "code",
      "metadata": {
        "colab": {
          "base_uri": "https://localhost:8080/"
        },
        "id": "J99MkcTc86H8",
        "outputId": "c931f91d-bdb5-46d3-99fd-f6f9acfb7e8e"
      },
      "source": [
        "#7. Using the code from Class 04, train a Random Forest classification model for the sametwo newsgroups, \r\n",
        "#generate the confusion matrix, and all the same performance metrics\r\n",
        "%matplotlib inline\r\n",
        "import numpy as np\r\n",
        "import matplotlib.pyplot as plt\r\n",
        "import seaborn as sns; sns.set()\r\n",
        "from sklearn.datasets import fetch_20newsgroups\r\n",
        "\r\n",
        "data = fetch_20newsgroups()\r\n",
        "data.target_names"
      ],
      "execution_count": 171,
      "outputs": [
        {
          "output_type": "stream",
          "text": [
            "Downloading 20news dataset. This may take a few minutes.\n",
            "Downloading dataset from https://ndownloader.figshare.com/files/5975967 (14 MB)\n"
          ],
          "name": "stderr"
        },
        {
          "output_type": "execute_result",
          "data": {
            "text/plain": [
              "['alt.atheism',\n",
              " 'comp.graphics',\n",
              " 'comp.os.ms-windows.misc',\n",
              " 'comp.sys.ibm.pc.hardware',\n",
              " 'comp.sys.mac.hardware',\n",
              " 'comp.windows.x',\n",
              " 'misc.forsale',\n",
              " 'rec.autos',\n",
              " 'rec.motorcycles',\n",
              " 'rec.sport.baseball',\n",
              " 'rec.sport.hockey',\n",
              " 'sci.crypt',\n",
              " 'sci.electronics',\n",
              " 'sci.med',\n",
              " 'sci.space',\n",
              " 'soc.religion.christian',\n",
              " 'talk.politics.guns',\n",
              " 'talk.politics.mideast',\n",
              " 'talk.politics.misc',\n",
              " 'talk.religion.misc']"
            ]
          },
          "metadata": {
            "tags": []
          },
          "execution_count": 171
        }
      ]
    },
    {
      "cell_type": "code",
      "metadata": {
        "id": "4Zyw4dBoAij5"
      },
      "source": [
        "categories = ['rec.autos','comp.graphics']\r\n",
        "train = fetch_20newsgroups(subset='train', categories=categories)\r\n",
        "test = fetch_20newsgroups(subset='test', categories=categories)"
      ],
      "execution_count": 172,
      "outputs": []
    },
    {
      "cell_type": "code",
      "metadata": {
        "colab": {
          "base_uri": "https://localhost:8080/"
        },
        "id": "SLlf4hw3ApeY",
        "outputId": "e951fffb-7f8a-40b7-e2b3-a0417ac36d47"
      },
      "source": [
        "print(train.data[8])"
      ],
      "execution_count": 183,
      "outputs": [
        {
          "output_type": "stream",
          "text": [
            "From: aron@tikal.ced.berkeley.edu (Aron Bonar)\n",
            "Subject: Re: Photoshop for Windows\n",
            "Organization: University of California, Berkeley\n",
            "Lines: 26\n",
            "Distribution: world\n",
            "NNTP-Posting-Host: tikal.ced.berkeley.edu\n",
            "\n",
            "In article <1993Apr22.011720.28958@midway.uchicago.edu>, dgf1@quads.uchicago.edu (David Farley) writes:\n",
            "|> In article <C5uHIM.JFq@rot.qc.ca> beaver@rot.qc.ca (Andre Boivert) writes:\n",
            "|> >\n",
            "|> >\n",
            "|> >I am looking for comments from people who have used/heard about PhotoShop\n",
            "|> >for Windows. Is it good? How does it compare to the Mac version? Is there\n",
            "|> >a lot of bugs (I heard the Windows version needs \"fine-tuning)?\n",
            "|> >\n",
            "|> >Any comments would be greatly appreciated..\n",
            "|> >\n",
            "|> >Thank you.\n",
            "|> >\n",
            "|> >Andre Boisvert\n",
            "|> >beaver@rot.qc.ca\n",
            "|> >\n",
            "|> An review of both the Mac and Windows versions in either PC Week or Info\n",
            "|> World this week, said that the Windows version was considerably slower\n",
            "|> than the Mac.  A more useful comparison would have been between PhotoStyler\n",
            "|> and PhotoShop for Windows.  David\n",
            "|> \n",
            "\n",
            "I don't know about that...I've used Photoshop 2.5 on both a 486dx-50 and a Quadra\n",
            "950...I'd say they are roughly equal.  If anything the 486 was faster.\n",
            "\n",
            "Both systems were running in 24 bit color and had the same amount of RAM (16 megs)\n",
            "I also believe the quadra had one of those photoshop accelerators.\n",
            "\n"
          ],
          "name": "stdout"
        }
      ]
    },
    {
      "cell_type": "code",
      "metadata": {
        "id": "-0WwuqkVBQm8"
      },
      "source": [
        " from sklearn.ensemble import RandomForestClassifier"
      ],
      "execution_count": 198,
      "outputs": []
    },
    {
      "cell_type": "code",
      "metadata": {
        "id": "IeL3XjVnBYxL"
      },
      "source": [
        "from sklearn.feature_extraction.text import CountVectorizer\r\n",
        "from sklearn.pipeline import make_pipeline\r\n",
        "model = make_pipeline(CountVectorizer(), RandomForestClassifier())\r\n",
        "model.fit(train.data, train.target)\r\n",
        "labels = model.predict(test.data)"
      ],
      "execution_count": 199,
      "outputs": []
    },
    {
      "cell_type": "code",
      "metadata": {
        "colab": {
          "base_uri": "https://localhost:8080/",
          "height": 285
        },
        "id": "iZ0zH7hIEKcv",
        "outputId": "3a3e7a4a-974a-4b62-a32b-e3660a33d16b"
      },
      "source": [
        "from sklearn.metrics import confusion_matrix\r\n",
        "mat = confusion_matrix(test.target, labels)\r\n",
        "sns.heatmap(mat.T, square=True, annot=True, fmt='d', cbar=False,\r\n",
        "            xticklabels=train.target_names, yticklabels=train.target_names)\r\n",
        "plt.xlabel('true label')\r\n",
        "plt.ylabel('predicted label');"
      ],
      "execution_count": 200,
      "outputs": [
        {
          "output_type": "display_data",
          "data": {
            "image/png": "[encoded data removed]",
            "text/plain": [
              "<Figure size 432x288 with 1 Axes>"
            ]
          },
          "metadata": {
            "tags": []
          }
        }
      ]
    },
    {
      "cell_type": "code",
      "metadata": {
        "colab": {
          "base_uri": "https://localhost:8080/"
        },
        "id": "bYHyim37FzCX",
        "outputId": "69b8dee8-653d-4108-97fe-24ef6f929fbb"
      },
      "source": [
        "import sklearn.metrics\r\n",
        "print('Accuracy:', sklearn.metrics.accuracy_score(test.target,labels))\r\n",
        "print('Precision:', sklearn.metrics.precision_score(test.target,labels))\r\n",
        "print('Recall:', sklearn.metrics.recall_score(test.target,labels))\r\n",
        "print('F1 Score:', sklearn.metrics.f1_score(labels, test.target, average='macro'))\r\n",
        "print('Mean Absolute Error:', sklearn.metrics.mean_absolute_error(test.target,labels))\r\n",
        "print('Mean Squared Error:', sklearn.metrics.mean_squared_error(test.target, labels))  \r\n",
        "print('Root Mean Squared Error:', np.sqrt(sklearn.metrics.mean_squared_error(test.target, labels)))"
      ],
      "execution_count": 204,
      "outputs": [
        {
          "output_type": "stream",
          "text": [
            "Accuracy: 0.9273885350318471\n",
            "Precision: 0.9402597402597402\n",
            "Recall: 0.9141414141414141\n",
            "F1 Score: 0.9273866496594501\n",
            "Mean Absolute Error: 0.07261146496815286\n",
            "Mean Squared Error: 0.07261146496815286\n",
            "Root Mean Squared Error: 0.26946514611012845\n"
          ],
          "name": "stdout"
        }
      ]
    },
    {
      "cell_type": "code",
      "metadata": {
        "id": "83YMnkZtGpZL"
      },
      "source": [
        "#Bonus Question"
      ],
      "execution_count": null,
      "outputs": []
    },
    {
      "cell_type": "code",
      "metadata": {
        "id": "xNYkQaoXGpgt"
      },
      "source": [
        "from sklearn.feature_extraction.text import TfidfVectorizer\r\n",
        "from sklearn.naive_bayes import MultinomialNB\r\n",
        "from sklearn.pipeline import make_pipeline\r\n",
        "model1 = make_pipeline(TfidfVectorizer(), MultinomialNB())"
      ],
      "execution_count": 209,
      "outputs": []
    },
    {
      "cell_type": "code",
      "metadata": {
        "id": "5i0rGZ3UU7WO"
      },
      "source": [
        "model1.fit(train.data, train.target)\r\n",
        "labels = model1.predict(test.data)"
      ],
      "execution_count": 210,
      "outputs": []
    },
    {
      "cell_type": "code",
      "metadata": {
        "colab": {
          "base_uri": "https://localhost:8080/",
          "height": 285
        },
        "id": "ddsjncw2U-H1",
        "outputId": "07d1a72e-6ab9-4b59-db79-3e42041e29b8"
      },
      "source": [
        "from sklearn.metrics import confusion_matrix\r\n",
        "mat = confusion_matrix(test.target, labels)\r\n",
        "sns.heatmap(mat.T, square=True, annot=True, fmt='d', cbar=False,\r\n",
        "            xticklabels=train.target_names, yticklabels=train.target_names)\r\n",
        "plt.xlabel('true label')\r\n",
        "plt.ylabel('predicted label');"
      ],
      "execution_count": 211,
      "outputs": [
        {
          "output_type": "display_data",
          "data": {
            "image/png": "[encoded data removed]",
            "text/plain": [
              "<Figure size 432x288 with 1 Axes>"
            ]
          },
          "metadata": {
            "tags": []
          }
        }
      ]
    },
    {
      "cell_type": "code",
      "metadata": {
        "colab": {
          "base_uri": "https://localhost:8080/"
        },
        "id": "YCNSqJOjVAom",
        "outputId": "42349169-8120-476c-b254-fb071b492827"
      },
      "source": [
        "print('Accuracy:', sklearn.metrics.accuracy_score(test.target,labels))\r\n",
        "print('Precision:', sklearn.metrics.precision_score(test.target,labels))\r\n",
        "print('Recall:', sklearn.metrics.recall_score(test.target,labels))\r\n",
        "print('F1 Score:', sklearn.metrics.f1_score(labels, test.target, average='macro'))\r\n",
        "print('Mean Absolute Error:', sklearn.metrics.mean_absolute_error(test.target,labels))\r\n",
        "print('Mean Squared Error:', sklearn.metrics.mean_squared_error(test.target, labels))  \r\n",
        "print('Root Mean Squared Error:', np.sqrt(sklearn.metrics.mean_squared_error(test.target, labels)))"
      ],
      "execution_count": 212,
      "outputs": [
        {
          "output_type": "stream",
          "text": [
            "Accuracy: 0.9477707006369427\n",
            "Precision: 0.9118329466357309\n",
            "Recall: 0.9924242424242424\n",
            "F1 Score: 0.9476207603086282\n",
            "Mean Absolute Error: 0.05222929936305733\n",
            "Mean Squared Error: 0.05222929936305733\n",
            "Root Mean Squared Error: 0.22853730409510245\n"
          ],
          "name": "stdout"
        }
      ]
    },
    {
      "cell_type": "code",
      "metadata": {
        "colab": {
          "base_uri": "https://localhost:8080/"
        },
        "id": "IxR_TIBZVvdC",
        "outputId": "98e823b7-d954-4f00-b163-aeb33a7dec75"
      },
      "source": [
        "model2 = make_pipeline(TfidfVectorizer(),RandomForestClassifier())\r\n",
        "model2.fit(train.data, train.target)\r\n",
        "labels = model2.predict(test.data)\r\n",
        "print('F1 Score:', sklearn.metrics.f1_score(labels, test.target, average='macro'))"
      ],
      "execution_count": 213,
      "outputs": [
        {
          "output_type": "stream",
          "text": [
            "F1 Score: 0.9171969147432495\n"
          ],
          "name": "stdout"
        }
      ]
    },
    {
      "cell_type": "code",
      "metadata": {
        "colab": {
          "base_uri": "https://localhost:8080/"
        },
        "id": "yMKOhYOoWVa_",
        "outputId": "e5970e0e-4aad-45f4-f26b-a9016e966bb5"
      },
      "source": [
        " from sklearn import svm\r\n",
        "model2 = make_pipeline(TfidfVectorizer(),svm.SVC())\r\n",
        "model2.fit(train.data, train.target)\r\n",
        "labels = model2.predict(test.data)\r\n",
        "print('F1 Score:', sklearn.metrics.f1_score(labels, test.target, average='macro'))"
      ],
      "execution_count": 215,
      "outputs": [
        {
          "output_type": "stream",
          "text": [
            "F1 Score: 0.9605054523087311\n"
          ],
          "name": "stdout"
        }
      ]
    },
    {
      "cell_type": "code",
      "metadata": {
        "colab": {
          "base_uri": "https://localhost:8080/"
        },
        "id": "sf9LJ0oOWyNJ",
        "outputId": "1622a93b-5677-4b17-82b1-c759e80f571b"
      },
      "source": [
        "from sklearn import tree\r\n",
        "model2 = make_pipeline(TfidfVectorizer(),tree.DecisionTreeClassifier())\r\n",
        "model2.fit(train.data, train.target)\r\n",
        "labels = model2.predict(test.data)\r\n",
        "print('F1 Score:', sklearn.metrics.f1_score(labels, test.target, average='macro'))"
      ],
      "execution_count": 216,
      "outputs": [
        {
          "output_type": "stream",
          "text": [
            "F1 Score: 0.9057323311003791\n"
          ],
          "name": "stdout"
        }
      ]
    },
    {
      "cell_type": "code",
      "metadata": {
        "colab": {
          "base_uri": "https://localhost:8080/"
        },
        "id": "DN3P0Bl0W-M_",
        "outputId": "bd15277b-516b-42ec-a8d4-75b5145704df"
      },
      "source": [
        "print(\"The best one is by using Support Vector Machine, having F-1 score of 96%\")"
      ],
      "execution_count": 217,
      "outputs": [
        {
          "output_type": "stream",
          "text": [
            "The best one is by using Support Vector Machine, having F-1 score of 96%\n"
          ],
          "name": "stdout"
        }
      ]
    }
  ]
}