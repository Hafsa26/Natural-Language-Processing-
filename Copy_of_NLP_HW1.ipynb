{
  "nbformat": 4,
  "nbformat_minor": 0,
  "metadata": {
    "colab": {
      "name": "Copy of NLP_HW1.ipynb",
      "provenance": [],
      "collapsed_sections": [],
      "authorship_tag": "ABX9TyO3QQc8nfVEeILg/3FeVjfC",
      "include_colab_link": true
    },
    "kernelspec": {
      "name": "python3",
      "display_name": "Python 3"
    }
  },
  "cells": [
    {
      "cell_type": "markdown",
      "metadata": {
        "id": "view-in-github",
        "colab_type": "text"
      },
      "source": [
        "<a href=\"https://colab.research.google.com/github/Hafsa26/Natural-Language-Processing-/blob/main_nlp/Copy_of_NLP_HW1.ipynb\" target=\"_parent\"><img src=\"https://colab.research.google.com/assets/colab-badge.svg\" alt=\"Open In Colab\"/></a>"
      ]
    },
    {
      "cell_type": "code",
      "metadata": {
        "colab": {
          "base_uri": "https://localhost:8080/"
        },
        "id": "XMMzco2SEdFS",
        "outputId": "a3da64a5-8aa6-4701-bdaf-ca9b9cf74d2c"
      },
      "source": [
        "print('Name: Hafsa Farooq') \r\n",
        "print('Panther ID: 002526044')\r\n",
        "print(\"URL : https://colab.research.google.com/drive/1t-CQwHRRXmlqyduYuqD3B_JsVSliO93m#scrollTo=XMMzco2SEdFS\") \r\n",
        "print('Github Link: https://github.com/Hafsa26/Natural-Language-Processing-.git')"
      ],
      "execution_count": null,
      "outputs": [
        {
          "output_type": "stream",
          "text": [
            "Name: Hafsa Farooq\n",
            "Panther ID: 002526044\n",
            "URL : https://colab.research.google.com/drive/1t-CQwHRRXmlqyduYuqD3B_JsVSliO93m#scrollTo=XMMzco2SEdFS\n",
            "Github Link: https://github.com/Hafsa26/Natural-Language-Processing-.git\n"
          ],
          "name": "stdout"
        }
      ]
    },
    {
      "cell_type": "code",
      "metadata": {
        "id": "lIFfriEnEsXy",
        "colab": {
          "base_uri": "https://localhost:8080/"
        },
        "outputId": "0080078b-fb8b-49e8-c1f1-bd62c0a719f8"
      },
      "source": [
        "# 1. Write a function that finds the factorial of a number. Test the function finding thefactorial of the number 10\r\n",
        "def fact(n): \r\n",
        "      if (n == 1 or n == 0):\r\n",
        "        return 1 \r\n",
        "      else: \r\n",
        "       return n * fact(n-1)\r\n",
        "\r\n",
        "# Gettting an input number from the user \r\n",
        "n = int(input(\"Enter a number for factorial: \"))\r\n",
        "\r\n",
        "print('The factorial of given number is: ', fact(n))"
      ],
      "execution_count": null,
      "outputs": [
        {
          "output_type": "stream",
          "text": [
            "Enter a number for factorial: 10\n",
            "The factorial of given number is:  3628800\n"
          ],
          "name": "stdout"
        }
      ]
    },
    {
      "cell_type": "code",
      "metadata": {
        "colab": {
          "base_uri": "https://localhost:8080/",
          "height": 69
        },
        "id": "JqQTNVMy_RNn",
        "outputId": "e0c11640-bd75-45c5-adb9-5ee78eea4ed3"
      },
      "source": [
        "# 2.  Write a function that determines if a number is a prime number. Test the function withthe following numbers: 3 and 1251\r\n",
        "n = int(input(\"Enter a number for checking prime: \"))\r\n",
        "print(\"Checking if prime...\")\r\n",
        "\r\n",
        "def check_prime(n): \r\n",
        "  if(n >= 2):\r\n",
        "    for x in range(2,n):\r\n",
        "        if (n%x == 0):  \r\n",
        "          return \"Not a Prime number\"\r\n",
        "  return \"Prime number\"\r\n",
        "check_prime(n)\r\n"
      ],
      "execution_count": null,
      "outputs": [
        {
          "output_type": "stream",
          "text": [
            "Enter a number for checking prime: 3\n",
            "Checking if prime...\n"
          ],
          "name": "stdout"
        },
        {
          "output_type": "execute_result",
          "data": {
            "application/vnd.google.colaboratory.intrinsic+json": {
              "type": "string"
            },
            "text/plain": [
              "'Prime number'"
            ]
          },
          "metadata": {
            "tags": []
          },
          "execution_count": 266
        }
      ]
    },
    {
      "cell_type": "code",
      "metadata": {
        "colab": {
          "base_uri": "https://localhost:8080/",
          "height": 69
        },
        "id": "tfc2Xpcg8CKu",
        "outputId": "ce460770-401e-4684-9a7c-0bf23822ad78"
      },
      "source": [
        "n1 = int(input(\"Enter a number for checking prime: \"))\r\n",
        "print(\"Checking if prime...\")\r\n",
        "\r\n",
        "def check_prime(n1): \r\n",
        "  if(n1 >= 2):\r\n",
        "    for x in range(2,n1):\r\n",
        "        if (n1%x == 0):  \r\n",
        "          return \"Not a Prime number\"\r\n",
        "  return \"Prime number\"\r\n",
        "check_prime(n1)\r\n"
      ],
      "execution_count": null,
      "outputs": [
        {
          "output_type": "stream",
          "text": [
            "Enter a number for checking prime: 1251\n",
            "Checking if prime...\n"
          ],
          "name": "stdout"
        },
        {
          "output_type": "execute_result",
          "data": {
            "application/vnd.google.colaboratory.intrinsic+json": {
              "type": "string"
            },
            "text/plain": [
              "'Not a Prime number'"
            ]
          },
          "metadata": {
            "tags": []
          },
          "execution_count": 265
        }
      ]
    },
    {
      "cell_type": "code",
      "metadata": {
        "id": "SZLmQxHzDNGU",
        "colab": {
          "base_uri": "https://localhost:8080/"
        },
        "outputId": "a392eaf4-12dc-4f51-961a-fd8e12387ae3"
      },
      "source": [
        "# 3. Write a function that transposes a matrix. Test with a 3 x 3 identity matrix\r\n",
        "X = [[1,0,0],[0,1,0], [0,0,1]]\r\n",
        "\r\n",
        "def transpose(X):\r\n",
        "  T = [[row[i] for row in X] for i in range(len(X))]\r\n",
        "  print(T)\r\n",
        "transpose(X)\r\n"
      ],
      "execution_count": null,
      "outputs": [
        {
          "output_type": "stream",
          "text": [
            "[[1, 0, 0], [0, 1, 0], [0, 0, 1]]\n"
          ],
          "name": "stdout"
        }
      ]
    },
    {
      "cell_type": "code",
      "metadata": {
        "id": "gQA2zIeVPbyA"
      },
      "source": [
        "import numpy as np\r\n",
        "import pandas as pd"
      ],
      "execution_count": null,
      "outputs": []
    },
    {
      "cell_type": "code",
      "metadata": {
        "id": "FytHYx7xOv9X"
      },
      "source": [
        "#4 Using Pandas and Numpy, write a piece of code to combine two series into one. \r\n",
        "np.random.seed(5)\r\n",
        "series1 = pd.Series(np.arange(10))\r\n",
        "series2 = pd.Series(np.arange(26))"
      ],
      "execution_count": null,
      "outputs": []
    },
    {
      "cell_type": "code",
      "metadata": {
        "colab": {
          "base_uri": "https://localhost:8080/"
        },
        "id": "UOqebD4JO0B1",
        "outputId": "9766420e-3aa7-41aa-e0e1-19f86c90b9bf"
      },
      "source": [
        "final = pd.concat([series1, series2],axis = 1)\r\n",
        "print(final)"
      ],
      "execution_count": null,
      "outputs": [
        {
          "output_type": "stream",
          "text": [
            "      0   1\n",
            "0   0.0   0\n",
            "1   1.0   1\n",
            "2   2.0   2\n",
            "3   3.0   3\n",
            "4   4.0   4\n",
            "5   5.0   5\n",
            "6   6.0   6\n",
            "7   7.0   7\n",
            "8   8.0   8\n",
            "9   9.0   9\n",
            "10  NaN  10\n",
            "11  NaN  11\n",
            "12  NaN  12\n",
            "13  NaN  13\n",
            "14  NaN  14\n",
            "15  NaN  15\n",
            "16  NaN  16\n",
            "17  NaN  17\n",
            "18  NaN  18\n",
            "19  NaN  19\n",
            "20  NaN  20\n",
            "21  NaN  21\n",
            "22  NaN  22\n",
            "23  NaN  23\n",
            "24  NaN  24\n",
            "25  NaN  25\n"
          ],
          "name": "stdout"
        }
      ]
    },
    {
      "cell_type": "markdown",
      "metadata": {
        "id": "nHrc23Yne-BL"
      },
      "source": [
        ""
      ]
    },
    {
      "cell_type": "code",
      "metadata": {
        "colab": {
          "base_uri": "https://localhost:8080/"
        },
        "id": "9mYO3mWvTH55",
        "outputId": "7152510b-a98a-48c9-dbc9-65e3edc0bd13"
      },
      "source": [
        "n1 = series1.to_numpy\r\n",
        "print(n1)"
      ],
      "execution_count": null,
      "outputs": [
        {
          "output_type": "stream",
          "text": [
            "<bound method IndexOpsMixin.to_numpy of 0    0\n",
            "1    1\n",
            "2    2\n",
            "3    3\n",
            "4    4\n",
            "5    5\n",
            "6    6\n",
            "7    7\n",
            "8    8\n",
            "9    9\n",
            "dtype: int64>\n"
          ],
          "name": "stdout"
        }
      ]
    },
    {
      "cell_type": "code",
      "metadata": {
        "colab": {
          "base_uri": "https://localhost:8080/"
        },
        "id": "b7p4-oRzTH9i",
        "outputId": "c6efb38a-91df-4d81-d593-6bbcf892af18"
      },
      "source": [
        "n2 = series2.to_numpy\r\n",
        "print(n2)"
      ],
      "execution_count": null,
      "outputs": [
        {
          "output_type": "stream",
          "text": [
            "<bound method IndexOpsMixin.to_numpy of 0      0\n",
            "1      1\n",
            "2      2\n",
            "3      3\n",
            "4      4\n",
            "5      5\n",
            "6      6\n",
            "7      7\n",
            "8      8\n",
            "9      9\n",
            "10    10\n",
            "11    11\n",
            "12    12\n",
            "13    13\n",
            "14    14\n",
            "15    15\n",
            "16    16\n",
            "17    17\n",
            "18    18\n",
            "19    19\n",
            "20    20\n",
            "21    21\n",
            "22    22\n",
            "23    23\n",
            "24    24\n",
            "25    25\n",
            "dtype: int64>\n"
          ],
          "name": "stdout"
        }
      ]
    },
    {
      "cell_type": "code",
      "metadata": {
        "colab": {
          "base_uri": "https://localhost:8080/"
        },
        "id": "nwQv9KWJT5-1",
        "outputId": "b64ba9d9-42b3-428d-96a2-ae6dc681ebfa"
      },
      "source": [
        "numc= np.concatenate((n1,n2), axis = None)\r\n",
        "print(numc)"
      ],
      "execution_count": null,
      "outputs": [
        {
          "output_type": "stream",
          "text": [
            "[<bound method IndexOpsMixin.to_numpy of 0    0\n",
            "1    1\n",
            "2    2\n",
            "3    3\n",
            "4    4\n",
            "5    5\n",
            "6    6\n",
            "7    7\n",
            "8    8\n",
            "9    9\n",
            "dtype: int64>\n",
            " <bound method IndexOpsMixin.to_numpy of 0      0\n",
            "1      1\n",
            "2      2\n",
            "3      3\n",
            "4      4\n",
            "5      5\n",
            "6      6\n",
            "7      7\n",
            "8      8\n",
            "9      9\n",
            "10    10\n",
            "11    11\n",
            "12    12\n",
            "13    13\n",
            "14    14\n",
            "15    15\n",
            "16    16\n",
            "17    17\n",
            "18    18\n",
            "19    19\n",
            "20    20\n",
            "21    21\n",
            "22    22\n",
            "23    23\n",
            "24    24\n",
            "25    25\n",
            "dtype: int64>]\n"
          ],
          "name": "stdout"
        }
      ]
    },
    {
      "cell_type": "code",
      "metadata": {
        "colab": {
          "base_uri": "https://localhost:8080/"
        },
        "id": "mPMhUsUbfCei",
        "outputId": "9b194357-8048-480b-eda5-bee64eb0fe02"
      },
      "source": [
        " #5.  Using pandas, write a piece of code to convert the first character of each element in aseries to uppercase\r\n",
        "series = pd.Series(['nlp', 'will', 'be', 'easy?'])\r\n",
        "series.str.capitalize()"
      ],
      "execution_count": null,
      "outputs": [
        {
          "output_type": "execute_result",
          "data": {
            "text/plain": [
              "0      Nlp\n",
              "1     Will\n",
              "2       Be\n",
              "3    Easy?\n",
              "dtype: object"
            ]
          },
          "metadata": {
            "tags": []
          },
          "execution_count": 201
        }
      ]
    },
    {
      "cell_type": "code",
      "metadata": {
        "colab": {
          "base_uri": "https://localhost:8080/"
        },
        "id": "7q7w1xaYhExQ",
        "outputId": "084a4065-3cad-4cee-e3a5-a13ca399b362"
      },
      "source": [
        "#Bonus: Using pandas, write a piece of code to get the frequency of unique values in theentire dataframe (not using built in functions).\r\n",
        "dataFrame = pd.DataFrame(np.random.randint(5, 10, 20).reshape(-1, 4), columns = list('abcd'))\r\n",
        "print(dataFrame)"
      ],
      "execution_count": null,
      "outputs": [
        {
          "output_type": "stream",
          "text": [
            "   a  b  c  d\n",
            "0  8  5  6  5\n",
            "1  9  8  5  5\n",
            "2  9  6  5  8\n",
            "3  9  8  6  9\n",
            "4  7  6  6  7\n"
          ],
          "name": "stdout"
        }
      ]
    },
    {
      "cell_type": "code",
      "metadata": {
        "colab": {
          "base_uri": "https://localhost:8080/"
        },
        "id": "O4MKaBRWsXYK",
        "outputId": "b818f3e1-8174-4749-e9d8-63b25b2ab0bf"
      },
      "source": [
        "print('Unique values in the dataframe:', dataFrame.apply(pd.Series.nunique))  \r\n",
        "print('Unique values in the a column of the dataframe:', dataFrame.a.value_counts(dropna=False)) \r\n",
        "print('Unique values in the b column of the dataframe:', dataFrame.b.value_counts(dropna=False)) \r\n",
        "print('Unique values in the c column of the dataframe:', dataFrame.c.value_counts(dropna=False))\r\n",
        "print('Unique values in the d column of the dataframe:', dataFrame.d.value_counts(dropna=False)) "
      ],
      "execution_count": null,
      "outputs": [
        {
          "output_type": "stream",
          "text": [
            "Unique values in the dataframe: a    3\n",
            "b    3\n",
            "c    2\n",
            "d    4\n",
            "dtype: int64\n",
            "Unique values in the a column of the dataframe: 9    3\n",
            "7    1\n",
            "8    1\n",
            "Name: a, dtype: int64\n",
            "Unique values in the b column of the dataframe: 6    2\n",
            "8    2\n",
            "5    1\n",
            "Name: b, dtype: int64\n",
            "Unique values in the c column of the dataframe: 6    3\n",
            "5    2\n",
            "Name: c, dtype: int64\n",
            "Unique values in the d column of the dataframe: 5    2\n",
            "7    1\n",
            "9    1\n",
            "8    1\n",
            "Name: d, dtype: int64\n"
          ],
          "name": "stdout"
        }
      ]
    }
  ]
}